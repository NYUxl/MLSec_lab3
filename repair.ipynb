{
 "cells": [
  {
   "cell_type": "code",
   "execution_count": 1,
   "id": "43c118b1",
   "metadata": {},
   "outputs": [],
   "source": [
    "import numpy as np\n",
    "import math\n",
    "import random\n",
    "import h5py\n",
    "\n",
    "import tensorflow as tf\n",
    "import keras\n",
    "import keras.backend as K"
   ]
  },
  {
   "cell_type": "markdown",
   "id": "e873845e",
   "metadata": {},
   "source": [
    "### Tryout backdoored model"
   ]
  },
  {
   "cell_type": "code",
   "execution_count": 2,
   "id": "1309ce8a",
   "metadata": {},
   "outputs": [],
   "source": [
    "clean_data_filename = \"original_data/lab3/data/cl/valid.h5\"\n",
    "poisoned_data_filename = \"original_data/lab3/data/bd/bd_valid.h5\"\n",
    "model_filename = \"original_data/lab3/models/bd_net.h5\""
   ]
  },
  {
   "cell_type": "code",
   "execution_count": 3,
   "id": "17cd3148",
   "metadata": {},
   "outputs": [],
   "source": [
    "def data_loader(filepath):\n",
    "    data = h5py.File(filepath, 'r')\n",
    "    x_data = np.array(data['data'])\n",
    "    y_data = np.array(data['label'])\n",
    "    x_data = x_data.transpose((0,2,3,1))\n",
    "\n",
    "    return x_data, y_data"
   ]
  },
  {
   "cell_type": "code",
   "execution_count": 4,
   "id": "ddb7fa3b",
   "metadata": {},
   "outputs": [
    {
     "name": "stdout",
     "output_type": "stream",
     "text": [
      "Clean Classification accuracy: 98.64899974019225\n",
      "Attack Success Rate: 100.0\n"
     ]
    }
   ],
   "source": [
    "cl_x_val, cl_y_val = data_loader(clean_data_filename)\n",
    "bd_x_val, bd_y_val = data_loader(poisoned_data_filename)\n",
    "\n",
    "bd_model = keras.models.load_model(model_filename)\n",
    "\n",
    "cl_label_p = np.argmax(bd_model.predict(cl_x_val), axis=1)\n",
    "clean_accuracy = np.mean(np.equal(cl_label_p, cl_y_val))*100\n",
    "print('Clean Classification accuracy:', clean_accuracy)\n",
    "\n",
    "bd_label_p = np.argmax(bd_model.predict(bd_x_val), axis=1)\n",
    "asr = np.mean(np.equal(bd_label_p, bd_y_val))*100\n",
    "print('Attack Success Rate:', asr)"
   ]
  },
  {
   "cell_type": "code",
   "execution_count": 5,
   "id": "199d1cad",
   "metadata": {},
   "outputs": [],
   "source": [
    "weights = dict([(layer.name, layer.get_weights()) for layer in bd_model.layers])"
   ]
  },
  {
   "cell_type": "markdown",
   "id": "9db78c06",
   "metadata": {},
   "source": [
    "### Pruning defense"
   ]
  },
  {
   "cell_type": "code",
   "execution_count": 6,
   "id": "ab9e5cf9",
   "metadata": {},
   "outputs": [],
   "source": [
    "class Feature_Block(keras.layers.Layer):\n",
    "    def __init__(self, input_dim=(55, 47, 3)):\n",
    "        super(Feature_Block, self).__init__()\n",
    "        # Sub-layers\n",
    "        self.conv_1 = keras.layers.Conv2D(20, (4, 4), activation='relu', name='conv_1')\n",
    "        self.pool_1 = keras.layers.MaxPooling2D((2, 2), name='pool_1')\n",
    "        self.conv_2 = keras.layers.Conv2D(40, (3, 3), activation='relu', name='conv_2')\n",
    "        self.pool_2 = keras.layers.MaxPooling2D((2, 2), name='pool_2')\n",
    "        self.conv_3 = keras.layers.Conv2D(60, (3, 3), activation='relu', name='conv_3')\n",
    "        self.pool_3 = keras.layers.MaxPooling2D((2, 2), name='pool_3')\n",
    "    \n",
    "    def call(self, x):\n",
    "        z = self.pool_1(self.conv_1(x))\n",
    "        z = self.pool_2(self.conv_2(z))\n",
    "        z = self.pool_3(self.conv_3(z))\n",
    "        return z\n",
    "\n",
    "class Interpretation_Block(keras.layers.Layer):\n",
    "    def __init__(self, input_dim=(5, 4, 60)):\n",
    "        super(Interpretation_Block, self).__init__()\n",
    "        # Sub-layers\n",
    "        self.flat_1 = keras.layers.Flatten()\n",
    "        self.fc_1 = keras.layers.Dense(160, name='fc_1')\n",
    "        self.conv_4 = keras.layers.Conv2D(80, (2, 2), activation='relu', name='conv_4')\n",
    "        self.flat_2 = keras.layers.Flatten()\n",
    "        self.fc_2 = keras.layers.Dense(160, name='fc_2')\n",
    "        self.merge = keras.layers.Add()\n",
    "        self.add_1 = keras.layers.Activation('relu')\n",
    "        self.y = keras.layers.Dense(1283, activation='softmax', name='output')\n",
    "    \n",
    "    def call(self, x):\n",
    "        z1 = self.fc_1(self.flat_1(x))\n",
    "        z2 = self.fc_2(self.flat_2(self.conv_4(x)))\n",
    "        return self.y(self.add_1(self.merge([z1, z2])))"
   ]
  },
  {
   "cell_type": "code",
   "execution_count": 17,
   "id": "68c13468",
   "metadata": {},
   "outputs": [],
   "source": [
    "def Feature_Net():\n",
    "\tx = keras.Input(shape=(55, 47, 3), name='input')\n",
    "\tfeat = Feature_Block()(x)\n",
    "\tmodel = keras.Model(inputs=x, outputs=feat)\n",
    "\tmodel.set_weights(weights['conv_1'] + weights['conv_2'] + weights['conv_3'])\n",
    "\treturn model\n",
    "\n",
    "def Interpretation_Net():\n",
    "\tx = keras.Input(shape=(5, 4, 60), name='input')\n",
    "\ty = Interpretation_Block()(x)\n",
    "\tmodel = keras.Model(inputs=x, outputs=y)\n",
    "\tmodel.set_weights(weights['fc_1'] + weights['conv_4'] + weights['fc_2'] + weights['output'])\n",
    "\treturn model"
   ]
  },
  {
   "cell_type": "code",
   "execution_count": 18,
   "id": "200b8c1e",
   "metadata": {},
   "outputs": [],
   "source": [
    "feature_net = Feature_Net()\n",
    "activations = feature_net.predict(cl_x_val)"
   ]
  },
  {
   "cell_type": "code",
   "execution_count": 20,
   "id": "4eb5dec8",
   "metadata": {},
   "outputs": [],
   "source": [
    "interpretation_net = Interpretation_Net()\n",
    "o = interpretation_net.predict(activations)"
   ]
  },
  {
   "cell_type": "code",
   "execution_count": 24,
   "id": "8c92567c",
   "metadata": {},
   "outputs": [],
   "source": [
    "def Pruned_Net(custom_mask=None):\n",
    "    mask = K.variable(custom_mask)\n",
    "    masked = keras.layers.Lambda(lambda x: x * mask)(feature_net.output)\n",
    "    model = keras.Model(inputs=feature_net.input, outputs=interpretation_net(masked))\n",
    "    return model"
   ]
  },
  {
   "cell_type": "code",
   "execution_count": 54,
   "id": "96b103b9",
   "metadata": {},
   "outputs": [],
   "source": [
    "prune_mask = np.ones((5, 4, 60))"
   ]
  },
  {
   "cell_type": "code",
   "execution_count": 55,
   "id": "c5382531",
   "metadata": {},
   "outputs": [
    {
     "name": "stdout",
     "output_type": "stream",
     "text": [
      "WARNING:tensorflow:\n",
      "The following Variables were used a Lambda layer's call (lambda_13), but\n",
      "are not present in its tracked objects:\n",
      "  <tf.Variable 'Variable:0' shape=(5, 4, 60) dtype=float32>\n",
      "It is possible that this is intended behavior, but it is more likely\n",
      "an omission. This is a strong indication that this layer should be\n",
      "formulated as a subclassed Layer rather than a Lambda layer.\n"
     ]
    }
   ],
   "source": [
    "pruned_net = Pruned_Net(prune_mask)"
   ]
  },
  {
   "cell_type": "code",
   "execution_count": 56,
   "id": "f5af8ac9",
   "metadata": {},
   "outputs": [],
   "source": [
    "cl_label_p = np.argmax(pruned_net.predict(cl_x_val), axis=1)"
   ]
  },
  {
   "cell_type": "code",
   "execution_count": null,
   "id": "15c34d79",
   "metadata": {},
   "outputs": [],
   "source": []
  },
  {
   "cell_type": "code",
   "execution_count": 66,
   "id": "b7376831",
   "metadata": {},
   "outputs": [],
   "source": [
    "class Custom_Layer(keras.layers.Layer):\n",
    "    def __init__(self):\n",
    "        super(Custom_Layer, self).__init__()\n",
    "    \n",
    "    def call(self, inputs):\n",
    "        p1, p2 = inputs\n",
    "        y1, y2 = np.argmax(p1, axis=1), np.argmax(p2, axis=1)\n",
    "        o1 = np.where(y1 == y2, y1, 0)\n",
    "        o2 = np.where(y1 == y2, 0, 1)\n",
    "        return np.concatenate([o1, o2])\n",
    "\n",
    "class Repaired_Model(keras.Model):\n",
    "    def __init__(self, custom_mask):\n",
    "        super(Repaired_Model, self).__init__()\n",
    "        self.feature = pruned_net.layers[1]\n",
    "        self.interpretation = interpretation_net.layers[1]\n",
    "        mask = K.variable(custom_mask)\n",
    "        self.mask = keras.layers.Lambda(lambda x: x * mask)\n",
    "    \n",
    "    def call(self, x):\n",
    "        z = self.feature(x)\n",
    "        z1 = self.interpretation(z)\n",
    "        z2 = self.interpretation(self.mask(z))\n",
    "        y1, y2 = K.argmax(z1, axis=1), K.argmax(z2, axis=1)\n",
    "        o1 = tf.where(y1 == y2, z1, 0.)\n",
    "        o2 = tf.where(y1 == y2, 0., 1.)\n",
    "        o2 = K.expand_dims(o2, axis=1)\n",
    "        return tf.concat([o1, o2], axis=1)\n",
    "    \n",
    "def Repaired_Net(custom_mask=None):\n",
    "    return Repaired_Model(custom_mask)"
   ]
  },
  {
   "cell_type": "code",
   "execution_count": 67,
   "id": "3c72c430",
   "metadata": {},
   "outputs": [
    {
     "name": "stdout",
     "output_type": "stream",
     "text": [
      "14\n"
     ]
    }
   ],
   "source": [
    "repaired_model = Repaired_Net(prune_mask)\n",
    "print(len(repaired_model.get_weights()))"
   ]
  },
  {
   "cell_type": "code",
   "execution_count": 68,
   "id": "ba1842aa",
   "metadata": {},
   "outputs": [
    {
     "name": "stdout",
     "output_type": "stream",
     "text": [
      "WARNING:tensorflow:\n",
      "The following Variables were used a Lambda layer's call (lambda_17), but\n",
      "are not present in its tracked objects:\n",
      "  <tf.Variable 'Variable:0' shape=(5, 4, 60) dtype=float32>\n",
      "It is possible that this is intended behavior, but it is more likely\n",
      "an omission. This is a strong indication that this layer should be\n",
      "formulated as a subclassed Layer rather than a Lambda layer.\n"
     ]
    },
    {
     "ename": "InvalidArgumentError",
     "evalue": " condition [32], then [32,1283], and else [] must be broadcastable\n\t [[node repaired__model_14/SelectV2\n (defined at C:\\Users\\xiaot\\Anaconda3\\envs\\torch_keras\\lib\\site-packages\\tensorflow\\python\\util\\tf_stack.py:193)\n]] [Op:__inference_predict_function_12155]\n\nErrors may have originated from an input operation.\nInput Source operations connected to node repaired__model_14/SelectV2:\nIn[0] repaired__model_14/Equal:\t\nIn[1] repaired__model_14/interpretation__block_1/output/Softmax:\t\nIn[2] repaired__model_14/SelectV2/e:\n\nOperation defined at: (most recent call last)\n>>>   File \"C:\\Users\\xiaot\\Anaconda3\\envs\\torch_keras\\lib\\runpy.py\", line 194, in _run_module_as_main\n>>>     return _run_code(code, main_globals, None,\n>>> \n>>>   File \"C:\\Users\\xiaot\\Anaconda3\\envs\\torch_keras\\lib\\runpy.py\", line 87, in _run_code\n>>>     exec(code, run_globals)\n>>> \n>>>   File \"C:\\Users\\xiaot\\Anaconda3\\envs\\torch_keras\\lib\\site-packages\\ipykernel_launcher.py\", line 16, in <module>\n>>>     app.launch_new_instance()\n>>> \n>>>   File \"C:\\Users\\xiaot\\Anaconda3\\envs\\torch_keras\\lib\\site-packages\\traitlets\\config\\application.py\", line 846, in launch_instance\n>>>     app.start()\n>>> \n>>>   File \"C:\\Users\\xiaot\\Anaconda3\\envs\\torch_keras\\lib\\site-packages\\ipykernel\\kernelapp.py\", line 677, in start\n>>>     self.io_loop.start()\n>>> \n>>>   File \"C:\\Users\\xiaot\\Anaconda3\\envs\\torch_keras\\lib\\site-packages\\tornado\\platform\\asyncio.py\", line 199, in start\n>>>     self.asyncio_loop.run_forever()\n>>> \n>>>   File \"C:\\Users\\xiaot\\Anaconda3\\envs\\torch_keras\\lib\\asyncio\\base_events.py\", line 570, in run_forever\n>>>     self._run_once()\n>>> \n>>>   File \"C:\\Users\\xiaot\\Anaconda3\\envs\\torch_keras\\lib\\asyncio\\base_events.py\", line 1859, in _run_once\n>>>     handle._run()\n>>> \n>>>   File \"C:\\Users\\xiaot\\Anaconda3\\envs\\torch_keras\\lib\\asyncio\\events.py\", line 81, in _run\n>>>     self._context.run(self._callback, *self._args)\n>>> \n>>>   File \"C:\\Users\\xiaot\\Anaconda3\\envs\\torch_keras\\lib\\site-packages\\ipykernel\\kernelbase.py\", line 457, in dispatch_queue\n>>>     await self.process_one()\n>>> \n>>>   File \"C:\\Users\\xiaot\\Anaconda3\\envs\\torch_keras\\lib\\site-packages\\ipykernel\\kernelbase.py\", line 446, in process_one\n>>>     await dispatch(*args)\n>>> \n>>>   File \"C:\\Users\\xiaot\\Anaconda3\\envs\\torch_keras\\lib\\site-packages\\ipykernel\\kernelbase.py\", line 353, in dispatch_shell\n>>>     await result\n>>> \n>>>   File \"C:\\Users\\xiaot\\Anaconda3\\envs\\torch_keras\\lib\\site-packages\\ipykernel\\kernelbase.py\", line 648, in execute_request\n>>>     reply_content = await reply_content\n>>> \n>>>   File \"C:\\Users\\xiaot\\Anaconda3\\envs\\torch_keras\\lib\\site-packages\\ipykernel\\ipkernel.py\", line 353, in do_execute\n>>>     res = shell.run_cell(code, store_history=store_history, silent=silent)\n>>> \n>>>   File \"C:\\Users\\xiaot\\Anaconda3\\envs\\torch_keras\\lib\\site-packages\\ipykernel\\zmqshell.py\", line 533, in run_cell\n>>>     return super(ZMQInteractiveShell, self).run_cell(*args, **kwargs)\n>>> \n>>>   File \"C:\\Users\\xiaot\\Anaconda3\\envs\\torch_keras\\lib\\site-packages\\IPython\\core\\interactiveshell.py\", line 2901, in run_cell\n>>>     result = self._run_cell(\n>>> \n>>>   File \"C:\\Users\\xiaot\\Anaconda3\\envs\\torch_keras\\lib\\site-packages\\IPython\\core\\interactiveshell.py\", line 2947, in _run_cell\n>>>     return runner(coro)\n>>> \n>>>   File \"C:\\Users\\xiaot\\Anaconda3\\envs\\torch_keras\\lib\\site-packages\\IPython\\core\\async_helpers.py\", line 68, in _pseudo_sync_runner\n>>>     coro.send(None)\n>>> \n>>>   File \"C:\\Users\\xiaot\\Anaconda3\\envs\\torch_keras\\lib\\site-packages\\IPython\\core\\interactiveshell.py\", line 3172, in run_cell_async\n>>>     has_raised = await self.run_ast_nodes(code_ast.body, cell_name,\n>>> \n>>>   File \"C:\\Users\\xiaot\\Anaconda3\\envs\\torch_keras\\lib\\site-packages\\IPython\\core\\interactiveshell.py\", line 3364, in run_ast_nodes\n>>>     if (await self.run_code(code, result,  async_=asy)):\n>>> \n>>>   File \"C:\\Users\\xiaot\\Anaconda3\\envs\\torch_keras\\lib\\site-packages\\IPython\\core\\interactiveshell.py\", line 3444, in run_code\n>>>     exec(code_obj, self.user_global_ns, self.user_ns)\n>>> \n>>>   File \"C:\\Users\\xiaot\\AppData\\Local\\Temp/ipykernel_29144/1100338256.py\", line 1, in <module>\n>>>     bd_label_p = np.argmax(repaired_model.predict(bd_x_val), axis=1)\n>>> \n>>>   File \"C:\\Users\\xiaot\\Anaconda3\\envs\\torch_keras\\lib\\site-packages\\keras\\utils\\traceback_utils.py\", line 64, in error_handler\n>>>     return fn(*args, **kwargs)\n>>> \n>>>   File \"C:\\Users\\xiaot\\Anaconda3\\envs\\torch_keras\\lib\\site-packages\\keras\\engine\\training.py\", line 1789, in predict\n>>>     tmp_batch_outputs = self.predict_function(iterator)\n>>> \n>>>   File \"C:\\Users\\xiaot\\Anaconda3\\envs\\torch_keras\\lib\\site-packages\\tensorflow\\python\\util\\traceback_utils.py\", line 150, in error_handler\n>>>     return fn(*args, **kwargs)\n>>> \n>>>   File \"C:\\Users\\xiaot\\Anaconda3\\envs\\torch_keras\\lib\\site-packages\\tensorflow\\python\\eager\\def_function.py\", line 910, in __call__\n>>>     result = self._call(*args, **kwds)\n>>> \n>>>   File \"C:\\Users\\xiaot\\Anaconda3\\envs\\torch_keras\\lib\\site-packages\\tensorflow\\python\\eager\\def_function.py\", line 958, in _call\n>>>     self._initialize(args, kwds, add_initializers_to=initializers)\n>>> \n>>>   File \"C:\\Users\\xiaot\\Anaconda3\\envs\\torch_keras\\lib\\site-packages\\tensorflow\\python\\eager\\def_function.py\", line 780, in _initialize\n>>>     self._stateful_fn._get_concrete_function_internal_garbage_collected(  # pylint: disable=protected-access\n>>> \n>>>   File \"C:\\Users\\xiaot\\Anaconda3\\envs\\torch_keras\\lib\\site-packages\\tensorflow\\python\\eager\\function.py\", line 3157, in _get_concrete_function_internal_garbage_collected\n>>>     graph_function, _ = self._maybe_define_function(args, kwargs)\n>>> \n>>>   File \"C:\\Users\\xiaot\\Anaconda3\\envs\\torch_keras\\lib\\site-packages\\tensorflow\\python\\eager\\function.py\", line 3557, in _maybe_define_function\n>>>     graph_function = self._create_graph_function(args, kwargs)\n>>> \n>>>   File \"C:\\Users\\xiaot\\Anaconda3\\envs\\torch_keras\\lib\\site-packages\\tensorflow\\python\\eager\\function.py\", line 3392, in _create_graph_function\n>>>     func_graph_module.func_graph_from_py_func(\n>>> \n>>>   File \"C:\\Users\\xiaot\\Anaconda3\\envs\\torch_keras\\lib\\site-packages\\tensorflow\\python\\framework\\func_graph.py\", line 1143, in func_graph_from_py_func\n>>>     func_outputs = python_func(*func_args, **func_kwargs)\n>>> \n>>>   File \"C:\\Users\\xiaot\\Anaconda3\\envs\\torch_keras\\lib\\site-packages\\tensorflow\\python\\eager\\def_function.py\", line 672, in wrapped_fn\n>>>     out = weak_wrapped_fn().__wrapped__(*args, **kwds)\n>>> \n>>>   File \"C:\\Users\\xiaot\\Anaconda3\\envs\\torch_keras\\lib\\site-packages\\tensorflow\\python\\framework\\func_graph.py\", line 1118, in autograph_handler\n>>>     return autograph.converted_call(\n>>> \n>>>   File \"C:\\Users\\xiaot\\Anaconda3\\envs\\torch_keras\\lib\\site-packages\\keras\\engine\\training.py\", line 1621, in predict_function\n>>>     return step_function(self, iterator)\n>>> \n>>>   File \"C:\\Users\\xiaot\\Anaconda3\\envs\\torch_keras\\lib\\site-packages\\keras\\engine\\training.py\", line 1611, in step_function\n>>>     outputs = model.distribute_strategy.run(run_step, args=(data,))\n>>> \n>>>   File \"C:\\Users\\xiaot\\Anaconda3\\envs\\torch_keras\\lib\\site-packages\\tensorflow\\python\\distribute\\distribute_lib.py\", line 1316, in run\n>>>     return self._extended.call_for_each_replica(fn, args=args, kwargs=kwargs)\n>>> \n>>>   File \"C:\\Users\\xiaot\\Anaconda3\\envs\\torch_keras\\lib\\site-packages\\tensorflow\\python\\distribute\\distribute_lib.py\", line 2892, in call_for_each_replica\n>>>     return self._call_for_each_replica(fn, args, kwargs)\n>>> \n>>>   File \"C:\\Users\\xiaot\\Anaconda3\\envs\\torch_keras\\lib\\site-packages\\tensorflow\\python\\distribute\\distribute_lib.py\", line 3695, in _call_for_each_replica\n>>>     return fn(*args, **kwargs)\n>>> \n>>>   File \"C:\\Users\\xiaot\\Anaconda3\\envs\\torch_keras\\lib\\site-packages\\keras\\engine\\training.py\", line 1604, in run_step\n>>>     outputs = model.predict_step(data)\n>>> \n>>>   File \"C:\\Users\\xiaot\\Anaconda3\\envs\\torch_keras\\lib\\site-packages\\keras\\engine\\training.py\", line 1572, in predict_step\n>>>     return self(x, training=False)\n>>> \n>>>   File \"C:\\Users\\xiaot\\Anaconda3\\envs\\torch_keras\\lib\\site-packages\\keras\\utils\\traceback_utils.py\", line 64, in error_handler\n>>>     return fn(*args, **kwargs)\n>>> \n>>>   File \"C:\\Users\\xiaot\\Anaconda3\\envs\\torch_keras\\lib\\site-packages\\keras\\engine\\base_layer.py\", line 1083, in __call__\n>>>     outputs = call_fn(inputs, *args, **kwargs)\n>>> \n>>>   File \"C:\\Users\\xiaot\\Anaconda3\\envs\\torch_keras\\lib\\site-packages\\keras\\utils\\traceback_utils.py\", line 92, in error_handler\n>>>     return fn(*args, **kwargs)\n>>> \n>>>   File \"C:\\Users\\xiaot\\AppData\\Local\\Temp/ipykernel_29144/1731890631.py\", line 25, in call\n>>>     o1 = tf.where(y1 == y2, z1, 0.)\n>>> \n>>>   File \"C:\\Users\\xiaot\\Anaconda3\\envs\\torch_keras\\lib\\site-packages\\tensorflow\\python\\util\\traceback_utils.py\", line 150, in error_handler\n>>>     return fn(*args, **kwargs)\n>>> \n>>>   File \"C:\\Users\\xiaot\\Anaconda3\\envs\\torch_keras\\lib\\site-packages\\tensorflow\\python\\util\\dispatch.py\", line 1096, in op_dispatch_handler\n>>>     return dispatch_target(*args, **kwargs)\n>>> \n>>>   File \"C:\\Users\\xiaot\\Anaconda3\\envs\\torch_keras\\lib\\site-packages\\tensorflow\\python\\ops\\array_ops.py\", line 4788, in where_v2\n>>>     return gen_math_ops.select_v2(condition=condition, t=x, e=y, name=name)\n>>> \n>>>   File \"C:\\Users\\xiaot\\Anaconda3\\envs\\torch_keras\\lib\\site-packages\\tensorflow\\python\\ops\\gen_math_ops.py\", line 9375, in select_v2\n>>>     _, _, _op, _outputs = _op_def_library._apply_op_helper(\n>>> \n>>>   File \"C:\\Users\\xiaot\\Anaconda3\\envs\\torch_keras\\lib\\site-packages\\tensorflow\\python\\framework\\op_def_library.py\", line 744, in _apply_op_helper\n>>>     op = g._create_op_internal(op_type_name, inputs, dtypes=None,\n>>> \n>>>   File \"C:\\Users\\xiaot\\Anaconda3\\envs\\torch_keras\\lib\\site-packages\\tensorflow\\python\\framework\\func_graph.py\", line 689, in _create_op_internal\n>>>     return super(FuncGraph, self)._create_op_internal(  # pylint: disable=protected-access\n>>> \n>>>   File \"C:\\Users\\xiaot\\Anaconda3\\envs\\torch_keras\\lib\\site-packages\\tensorflow\\python\\framework\\ops.py\", line 3697, in _create_op_internal\n>>>     ret = Operation(\n>>> \n>>>   File \"C:\\Users\\xiaot\\Anaconda3\\envs\\torch_keras\\lib\\site-packages\\tensorflow\\python\\framework\\ops.py\", line 2101, in __init__\n>>>     self._traceback = tf_stack.extract_stack_for_node(self._c_op)\n>>> \n>>>   File \"C:\\Users\\xiaot\\Anaconda3\\envs\\torch_keras\\lib\\site-packages\\tensorflow\\python\\util\\tf_stack.py\", line 193, in extract_stack_for_node\n>>>     return _tf_stack.extract_stack_for_node(\n>>> ",
     "output_type": "error",
     "traceback": [
      "\u001b[1;31m---------------------------------------------------------------------------\u001b[0m",
      "\u001b[1;31mInvalidArgumentError\u001b[0m                      Traceback (most recent call last)",
      "\u001b[1;32m~\\AppData\\Local\\Temp/ipykernel_29144/1100338256.py\u001b[0m in \u001b[0;36m<module>\u001b[1;34m\u001b[0m\n\u001b[1;32m----> 1\u001b[1;33m \u001b[0mbd_label_p\u001b[0m \u001b[1;33m=\u001b[0m \u001b[0mnp\u001b[0m\u001b[1;33m.\u001b[0m\u001b[0margmax\u001b[0m\u001b[1;33m(\u001b[0m\u001b[0mrepaired_model\u001b[0m\u001b[1;33m.\u001b[0m\u001b[0mpredict\u001b[0m\u001b[1;33m(\u001b[0m\u001b[0mbd_x_val\u001b[0m\u001b[1;33m)\u001b[0m\u001b[1;33m,\u001b[0m \u001b[0maxis\u001b[0m\u001b[1;33m=\u001b[0m\u001b[1;36m1\u001b[0m\u001b[1;33m)\u001b[0m\u001b[1;33m\u001b[0m\u001b[1;33m\u001b[0m\u001b[0m\n\u001b[0m",
      "\u001b[1;32m~\\Anaconda3\\envs\\torch_keras\\lib\\site-packages\\keras\\utils\\traceback_utils.py\u001b[0m in \u001b[0;36merror_handler\u001b[1;34m(*args, **kwargs)\u001b[0m\n\u001b[0;32m     65\u001b[0m     \u001b[1;32mexcept\u001b[0m \u001b[0mException\u001b[0m \u001b[1;32mas\u001b[0m \u001b[0me\u001b[0m\u001b[1;33m:\u001b[0m  \u001b[1;31m# pylint: disable=broad-except\u001b[0m\u001b[1;33m\u001b[0m\u001b[1;33m\u001b[0m\u001b[0m\n\u001b[0;32m     66\u001b[0m       \u001b[0mfiltered_tb\u001b[0m \u001b[1;33m=\u001b[0m \u001b[0m_process_traceback_frames\u001b[0m\u001b[1;33m(\u001b[0m\u001b[0me\u001b[0m\u001b[1;33m.\u001b[0m\u001b[0m__traceback__\u001b[0m\u001b[1;33m)\u001b[0m\u001b[1;33m\u001b[0m\u001b[1;33m\u001b[0m\u001b[0m\n\u001b[1;32m---> 67\u001b[1;33m       \u001b[1;32mraise\u001b[0m \u001b[0me\u001b[0m\u001b[1;33m.\u001b[0m\u001b[0mwith_traceback\u001b[0m\u001b[1;33m(\u001b[0m\u001b[0mfiltered_tb\u001b[0m\u001b[1;33m)\u001b[0m \u001b[1;32mfrom\u001b[0m \u001b[1;32mNone\u001b[0m\u001b[1;33m\u001b[0m\u001b[1;33m\u001b[0m\u001b[0m\n\u001b[0m\u001b[0;32m     68\u001b[0m     \u001b[1;32mfinally\u001b[0m\u001b[1;33m:\u001b[0m\u001b[1;33m\u001b[0m\u001b[1;33m\u001b[0m\u001b[0m\n\u001b[0;32m     69\u001b[0m       \u001b[1;32mdel\u001b[0m \u001b[0mfiltered_tb\u001b[0m\u001b[1;33m\u001b[0m\u001b[1;33m\u001b[0m\u001b[0m\n",
      "\u001b[1;32m~\\Anaconda3\\envs\\torch_keras\\lib\\site-packages\\tensorflow\\python\\eager\\execute.py\u001b[0m in \u001b[0;36mquick_execute\u001b[1;34m(op_name, num_outputs, inputs, attrs, ctx, name)\u001b[0m\n\u001b[0;32m     56\u001b[0m   \u001b[1;32mtry\u001b[0m\u001b[1;33m:\u001b[0m\u001b[1;33m\u001b[0m\u001b[1;33m\u001b[0m\u001b[0m\n\u001b[0;32m     57\u001b[0m     \u001b[0mctx\u001b[0m\u001b[1;33m.\u001b[0m\u001b[0mensure_initialized\u001b[0m\u001b[1;33m(\u001b[0m\u001b[1;33m)\u001b[0m\u001b[1;33m\u001b[0m\u001b[1;33m\u001b[0m\u001b[0m\n\u001b[1;32m---> 58\u001b[1;33m     tensors = pywrap_tfe.TFE_Py_Execute(ctx._handle, device_name, op_name,\n\u001b[0m\u001b[0;32m     59\u001b[0m                                         inputs, attrs, num_outputs)\n\u001b[0;32m     60\u001b[0m   \u001b[1;32mexcept\u001b[0m \u001b[0mcore\u001b[0m\u001b[1;33m.\u001b[0m\u001b[0m_NotOkStatusException\u001b[0m \u001b[1;32mas\u001b[0m \u001b[0me\u001b[0m\u001b[1;33m:\u001b[0m\u001b[1;33m\u001b[0m\u001b[1;33m\u001b[0m\u001b[0m\n",
      "\u001b[1;31mInvalidArgumentError\u001b[0m:  condition [32], then [32,1283], and else [] must be broadcastable\n\t [[node repaired__model_14/SelectV2\n (defined at C:\\Users\\xiaot\\Anaconda3\\envs\\torch_keras\\lib\\site-packages\\tensorflow\\python\\util\\tf_stack.py:193)\n]] [Op:__inference_predict_function_12155]\n\nErrors may have originated from an input operation.\nInput Source operations connected to node repaired__model_14/SelectV2:\nIn[0] repaired__model_14/Equal:\t\nIn[1] repaired__model_14/interpretation__block_1/output/Softmax:\t\nIn[2] repaired__model_14/SelectV2/e:\n\nOperation defined at: (most recent call last)\n>>>   File \"C:\\Users\\xiaot\\Anaconda3\\envs\\torch_keras\\lib\\runpy.py\", line 194, in _run_module_as_main\n>>>     return _run_code(code, main_globals, None,\n>>> \n>>>   File \"C:\\Users\\xiaot\\Anaconda3\\envs\\torch_keras\\lib\\runpy.py\", line 87, in _run_code\n>>>     exec(code, run_globals)\n>>> \n>>>   File \"C:\\Users\\xiaot\\Anaconda3\\envs\\torch_keras\\lib\\site-packages\\ipykernel_launcher.py\", line 16, in <module>\n>>>     app.launch_new_instance()\n>>> \n>>>   File \"C:\\Users\\xiaot\\Anaconda3\\envs\\torch_keras\\lib\\site-packages\\traitlets\\config\\application.py\", line 846, in launch_instance\n>>>     app.start()\n>>> \n>>>   File \"C:\\Users\\xiaot\\Anaconda3\\envs\\torch_keras\\lib\\site-packages\\ipykernel\\kernelapp.py\", line 677, in start\n>>>     self.io_loop.start()\n>>> \n>>>   File \"C:\\Users\\xiaot\\Anaconda3\\envs\\torch_keras\\lib\\site-packages\\tornado\\platform\\asyncio.py\", line 199, in start\n>>>     self.asyncio_loop.run_forever()\n>>> \n>>>   File \"C:\\Users\\xiaot\\Anaconda3\\envs\\torch_keras\\lib\\asyncio\\base_events.py\", line 570, in run_forever\n>>>     self._run_once()\n>>> \n>>>   File \"C:\\Users\\xiaot\\Anaconda3\\envs\\torch_keras\\lib\\asyncio\\base_events.py\", line 1859, in _run_once\n>>>     handle._run()\n>>> \n>>>   File \"C:\\Users\\xiaot\\Anaconda3\\envs\\torch_keras\\lib\\asyncio\\events.py\", line 81, in _run\n>>>     self._context.run(self._callback, *self._args)\n>>> \n>>>   File \"C:\\Users\\xiaot\\Anaconda3\\envs\\torch_keras\\lib\\site-packages\\ipykernel\\kernelbase.py\", line 457, in dispatch_queue\n>>>     await self.process_one()\n>>> \n>>>   File \"C:\\Users\\xiaot\\Anaconda3\\envs\\torch_keras\\lib\\site-packages\\ipykernel\\kernelbase.py\", line 446, in process_one\n>>>     await dispatch(*args)\n>>> \n>>>   File \"C:\\Users\\xiaot\\Anaconda3\\envs\\torch_keras\\lib\\site-packages\\ipykernel\\kernelbase.py\", line 353, in dispatch_shell\n>>>     await result\n>>> \n>>>   File \"C:\\Users\\xiaot\\Anaconda3\\envs\\torch_keras\\lib\\site-packages\\ipykernel\\kernelbase.py\", line 648, in execute_request\n>>>     reply_content = await reply_content\n>>> \n>>>   File \"C:\\Users\\xiaot\\Anaconda3\\envs\\torch_keras\\lib\\site-packages\\ipykernel\\ipkernel.py\", line 353, in do_execute\n>>>     res = shell.run_cell(code, store_history=store_history, silent=silent)\n>>> \n>>>   File \"C:\\Users\\xiaot\\Anaconda3\\envs\\torch_keras\\lib\\site-packages\\ipykernel\\zmqshell.py\", line 533, in run_cell\n>>>     return super(ZMQInteractiveShell, self).run_cell(*args, **kwargs)\n>>> \n>>>   File \"C:\\Users\\xiaot\\Anaconda3\\envs\\torch_keras\\lib\\site-packages\\IPython\\core\\interactiveshell.py\", line 2901, in run_cell\n>>>     result = self._run_cell(\n>>> \n>>>   File \"C:\\Users\\xiaot\\Anaconda3\\envs\\torch_keras\\lib\\site-packages\\IPython\\core\\interactiveshell.py\", line 2947, in _run_cell\n>>>     return runner(coro)\n>>> \n>>>   File \"C:\\Users\\xiaot\\Anaconda3\\envs\\torch_keras\\lib\\site-packages\\IPython\\core\\async_helpers.py\", line 68, in _pseudo_sync_runner\n>>>     coro.send(None)\n>>> \n>>>   File \"C:\\Users\\xiaot\\Anaconda3\\envs\\torch_keras\\lib\\site-packages\\IPython\\core\\interactiveshell.py\", line 3172, in run_cell_async\n>>>     has_raised = await self.run_ast_nodes(code_ast.body, cell_name,\n>>> \n>>>   File \"C:\\Users\\xiaot\\Anaconda3\\envs\\torch_keras\\lib\\site-packages\\IPython\\core\\interactiveshell.py\", line 3364, in run_ast_nodes\n>>>     if (await self.run_code(code, result,  async_=asy)):\n>>> \n>>>   File \"C:\\Users\\xiaot\\Anaconda3\\envs\\torch_keras\\lib\\site-packages\\IPython\\core\\interactiveshell.py\", line 3444, in run_code\n>>>     exec(code_obj, self.user_global_ns, self.user_ns)\n>>> \n>>>   File \"C:\\Users\\xiaot\\AppData\\Local\\Temp/ipykernel_29144/1100338256.py\", line 1, in <module>\n>>>     bd_label_p = np.argmax(repaired_model.predict(bd_x_val), axis=1)\n>>> \n>>>   File \"C:\\Users\\xiaot\\Anaconda3\\envs\\torch_keras\\lib\\site-packages\\keras\\utils\\traceback_utils.py\", line 64, in error_handler\n>>>     return fn(*args, **kwargs)\n>>> \n>>>   File \"C:\\Users\\xiaot\\Anaconda3\\envs\\torch_keras\\lib\\site-packages\\keras\\engine\\training.py\", line 1789, in predict\n>>>     tmp_batch_outputs = self.predict_function(iterator)\n>>> \n>>>   File \"C:\\Users\\xiaot\\Anaconda3\\envs\\torch_keras\\lib\\site-packages\\tensorflow\\python\\util\\traceback_utils.py\", line 150, in error_handler\n>>>     return fn(*args, **kwargs)\n>>> \n>>>   File \"C:\\Users\\xiaot\\Anaconda3\\envs\\torch_keras\\lib\\site-packages\\tensorflow\\python\\eager\\def_function.py\", line 910, in __call__\n>>>     result = self._call(*args, **kwds)\n>>> \n>>>   File \"C:\\Users\\xiaot\\Anaconda3\\envs\\torch_keras\\lib\\site-packages\\tensorflow\\python\\eager\\def_function.py\", line 958, in _call\n>>>     self._initialize(args, kwds, add_initializers_to=initializers)\n>>> \n>>>   File \"C:\\Users\\xiaot\\Anaconda3\\envs\\torch_keras\\lib\\site-packages\\tensorflow\\python\\eager\\def_function.py\", line 780, in _initialize\n>>>     self._stateful_fn._get_concrete_function_internal_garbage_collected(  # pylint: disable=protected-access\n>>> \n>>>   File \"C:\\Users\\xiaot\\Anaconda3\\envs\\torch_keras\\lib\\site-packages\\tensorflow\\python\\eager\\function.py\", line 3157, in _get_concrete_function_internal_garbage_collected\n>>>     graph_function, _ = self._maybe_define_function(args, kwargs)\n>>> \n>>>   File \"C:\\Users\\xiaot\\Anaconda3\\envs\\torch_keras\\lib\\site-packages\\tensorflow\\python\\eager\\function.py\", line 3557, in _maybe_define_function\n>>>     graph_function = self._create_graph_function(args, kwargs)\n>>> \n>>>   File \"C:\\Users\\xiaot\\Anaconda3\\envs\\torch_keras\\lib\\site-packages\\tensorflow\\python\\eager\\function.py\", line 3392, in _create_graph_function\n>>>     func_graph_module.func_graph_from_py_func(\n>>> \n>>>   File \"C:\\Users\\xiaot\\Anaconda3\\envs\\torch_keras\\lib\\site-packages\\tensorflow\\python\\framework\\func_graph.py\", line 1143, in func_graph_from_py_func\n>>>     func_outputs = python_func(*func_args, **func_kwargs)\n>>> \n>>>   File \"C:\\Users\\xiaot\\Anaconda3\\envs\\torch_keras\\lib\\site-packages\\tensorflow\\python\\eager\\def_function.py\", line 672, in wrapped_fn\n>>>     out = weak_wrapped_fn().__wrapped__(*args, **kwds)\n>>> \n>>>   File \"C:\\Users\\xiaot\\Anaconda3\\envs\\torch_keras\\lib\\site-packages\\tensorflow\\python\\framework\\func_graph.py\", line 1118, in autograph_handler\n>>>     return autograph.converted_call(\n>>> \n>>>   File \"C:\\Users\\xiaot\\Anaconda3\\envs\\torch_keras\\lib\\site-packages\\keras\\engine\\training.py\", line 1621, in predict_function\n>>>     return step_function(self, iterator)\n>>> \n>>>   File \"C:\\Users\\xiaot\\Anaconda3\\envs\\torch_keras\\lib\\site-packages\\keras\\engine\\training.py\", line 1611, in step_function\n>>>     outputs = model.distribute_strategy.run(run_step, args=(data,))\n>>> \n>>>   File \"C:\\Users\\xiaot\\Anaconda3\\envs\\torch_keras\\lib\\site-packages\\tensorflow\\python\\distribute\\distribute_lib.py\", line 1316, in run\n>>>     return self._extended.call_for_each_replica(fn, args=args, kwargs=kwargs)\n>>> \n>>>   File \"C:\\Users\\xiaot\\Anaconda3\\envs\\torch_keras\\lib\\site-packages\\tensorflow\\python\\distribute\\distribute_lib.py\", line 2892, in call_for_each_replica\n>>>     return self._call_for_each_replica(fn, args, kwargs)\n>>> \n>>>   File \"C:\\Users\\xiaot\\Anaconda3\\envs\\torch_keras\\lib\\site-packages\\tensorflow\\python\\distribute\\distribute_lib.py\", line 3695, in _call_for_each_replica\n>>>     return fn(*args, **kwargs)\n>>> \n>>>   File \"C:\\Users\\xiaot\\Anaconda3\\envs\\torch_keras\\lib\\site-packages\\keras\\engine\\training.py\", line 1604, in run_step\n>>>     outputs = model.predict_step(data)\n>>> \n>>>   File \"C:\\Users\\xiaot\\Anaconda3\\envs\\torch_keras\\lib\\site-packages\\keras\\engine\\training.py\", line 1572, in predict_step\n>>>     return self(x, training=False)\n>>> \n>>>   File \"C:\\Users\\xiaot\\Anaconda3\\envs\\torch_keras\\lib\\site-packages\\keras\\utils\\traceback_utils.py\", line 64, in error_handler\n>>>     return fn(*args, **kwargs)\n>>> \n>>>   File \"C:\\Users\\xiaot\\Anaconda3\\envs\\torch_keras\\lib\\site-packages\\keras\\engine\\base_layer.py\", line 1083, in __call__\n>>>     outputs = call_fn(inputs, *args, **kwargs)\n>>> \n>>>   File \"C:\\Users\\xiaot\\Anaconda3\\envs\\torch_keras\\lib\\site-packages\\keras\\utils\\traceback_utils.py\", line 92, in error_handler\n>>>     return fn(*args, **kwargs)\n>>> \n>>>   File \"C:\\Users\\xiaot\\AppData\\Local\\Temp/ipykernel_29144/1731890631.py\", line 25, in call\n>>>     o1 = tf.where(y1 == y2, z1, 0.)\n>>> \n>>>   File \"C:\\Users\\xiaot\\Anaconda3\\envs\\torch_keras\\lib\\site-packages\\tensorflow\\python\\util\\traceback_utils.py\", line 150, in error_handler\n>>>     return fn(*args, **kwargs)\n>>> \n>>>   File \"C:\\Users\\xiaot\\Anaconda3\\envs\\torch_keras\\lib\\site-packages\\tensorflow\\python\\util\\dispatch.py\", line 1096, in op_dispatch_handler\n>>>     return dispatch_target(*args, **kwargs)\n>>> \n>>>   File \"C:\\Users\\xiaot\\Anaconda3\\envs\\torch_keras\\lib\\site-packages\\tensorflow\\python\\ops\\array_ops.py\", line 4788, in where_v2\n>>>     return gen_math_ops.select_v2(condition=condition, t=x, e=y, name=name)\n>>> \n>>>   File \"C:\\Users\\xiaot\\Anaconda3\\envs\\torch_keras\\lib\\site-packages\\tensorflow\\python\\ops\\gen_math_ops.py\", line 9375, in select_v2\n>>>     _, _, _op, _outputs = _op_def_library._apply_op_helper(\n>>> \n>>>   File \"C:\\Users\\xiaot\\Anaconda3\\envs\\torch_keras\\lib\\site-packages\\tensorflow\\python\\framework\\op_def_library.py\", line 744, in _apply_op_helper\n>>>     op = g._create_op_internal(op_type_name, inputs, dtypes=None,\n>>> \n>>>   File \"C:\\Users\\xiaot\\Anaconda3\\envs\\torch_keras\\lib\\site-packages\\tensorflow\\python\\framework\\func_graph.py\", line 689, in _create_op_internal\n>>>     return super(FuncGraph, self)._create_op_internal(  # pylint: disable=protected-access\n>>> \n>>>   File \"C:\\Users\\xiaot\\Anaconda3\\envs\\torch_keras\\lib\\site-packages\\tensorflow\\python\\framework\\ops.py\", line 3697, in _create_op_internal\n>>>     ret = Operation(\n>>> \n>>>   File \"C:\\Users\\xiaot\\Anaconda3\\envs\\torch_keras\\lib\\site-packages\\tensorflow\\python\\framework\\ops.py\", line 2101, in __init__\n>>>     self._traceback = tf_stack.extract_stack_for_node(self._c_op)\n>>> \n>>>   File \"C:\\Users\\xiaot\\Anaconda3\\envs\\torch_keras\\lib\\site-packages\\tensorflow\\python\\util\\tf_stack.py\", line 193, in extract_stack_for_node\n>>>     return _tf_stack.extract_stack_for_node(\n>>> "
     ]
    }
   ],
   "source": [
    "bd_label_p = np.argmax(repaired_model.predict(bd_x_val), axis=1)"
   ]
  },
  {
   "cell_type": "code",
   "execution_count": 69,
   "id": "0dd10aaf",
   "metadata": {},
   "outputs": [
    {
     "name": "stderr",
     "output_type": "stream",
     "text": [
      "WARNING:absl:Found untraced functions such as conv_1_layer_call_fn, conv_1_layer_call_and_return_conditional_losses, conv_2_layer_call_fn, conv_2_layer_call_and_return_conditional_losses, conv_3_layer_call_fn while saving (showing 5 of 55). These functions will not be directly callable after loading.\n"
     ]
    },
    {
     "ename": "AssertionError",
     "evalue": "Tried to export a function which references 'untracked' resource Tensor(\"12849:0\", shape=(), dtype=resource). TensorFlow objects (e.g. tf.Variable) captured by functions must be 'tracked' by assigning them to an attribute of a tracked object or assigned to an attribute of the main object directly.\n\n Trackable Python objects referring to this tensor (from gc.get_referrers, limited to two hops):\n<tf.Variable 'Variable:0' shape=(5, 4, 60) dtype=float32>",
     "output_type": "error",
     "traceback": [
      "\u001b[1;31m---------------------------------------------------------------------------\u001b[0m",
      "\u001b[1;31mAssertionError\u001b[0m                            Traceback (most recent call last)",
      "\u001b[1;32m~\\AppData\\Local\\Temp/ipykernel_29144/1012374573.py\u001b[0m in \u001b[0;36m<module>\u001b[1;34m\u001b[0m\n\u001b[1;32m----> 1\u001b[1;33m \u001b[0mrepaired_model\u001b[0m\u001b[1;33m.\u001b[0m\u001b[0msave\u001b[0m\u001b[1;33m(\u001b[0m\u001b[1;34m'try'\u001b[0m\u001b[1;33m)\u001b[0m\u001b[1;33m\u001b[0m\u001b[1;33m\u001b[0m\u001b[0m\n\u001b[0m",
      "\u001b[1;32m~\\Anaconda3\\envs\\torch_keras\\lib\\site-packages\\keras\\utils\\traceback_utils.py\u001b[0m in \u001b[0;36merror_handler\u001b[1;34m(*args, **kwargs)\u001b[0m\n\u001b[0;32m     65\u001b[0m     \u001b[1;32mexcept\u001b[0m \u001b[0mException\u001b[0m \u001b[1;32mas\u001b[0m \u001b[0me\u001b[0m\u001b[1;33m:\u001b[0m  \u001b[1;31m# pylint: disable=broad-except\u001b[0m\u001b[1;33m\u001b[0m\u001b[1;33m\u001b[0m\u001b[0m\n\u001b[0;32m     66\u001b[0m       \u001b[0mfiltered_tb\u001b[0m \u001b[1;33m=\u001b[0m \u001b[0m_process_traceback_frames\u001b[0m\u001b[1;33m(\u001b[0m\u001b[0me\u001b[0m\u001b[1;33m.\u001b[0m\u001b[0m__traceback__\u001b[0m\u001b[1;33m)\u001b[0m\u001b[1;33m\u001b[0m\u001b[1;33m\u001b[0m\u001b[0m\n\u001b[1;32m---> 67\u001b[1;33m       \u001b[1;32mraise\u001b[0m \u001b[0me\u001b[0m\u001b[1;33m.\u001b[0m\u001b[0mwith_traceback\u001b[0m\u001b[1;33m(\u001b[0m\u001b[0mfiltered_tb\u001b[0m\u001b[1;33m)\u001b[0m \u001b[1;32mfrom\u001b[0m \u001b[1;32mNone\u001b[0m\u001b[1;33m\u001b[0m\u001b[1;33m\u001b[0m\u001b[0m\n\u001b[0m\u001b[0;32m     68\u001b[0m     \u001b[1;32mfinally\u001b[0m\u001b[1;33m:\u001b[0m\u001b[1;33m\u001b[0m\u001b[1;33m\u001b[0m\u001b[0m\n\u001b[0;32m     69\u001b[0m       \u001b[1;32mdel\u001b[0m \u001b[0mfiltered_tb\u001b[0m\u001b[1;33m\u001b[0m\u001b[1;33m\u001b[0m\u001b[0m\n",
      "\u001b[1;32m~\\Anaconda3\\envs\\torch_keras\\lib\\site-packages\\tensorflow\\python\\saved_model\\save.py\u001b[0m in \u001b[0;36m_map_captures_to_created_tensors\u001b[1;34m(original_captures, resource_map)\u001b[0m\n\u001b[0;32m    523\u001b[0m           \u001b[1;32mif\u001b[0m \u001b[0misinstance\u001b[0m\u001b[1;33m(\u001b[0m\u001b[0msecondary_referrer\u001b[0m\u001b[1;33m,\u001b[0m \u001b[0mbase\u001b[0m\u001b[1;33m.\u001b[0m\u001b[0mTrackable\u001b[0m\u001b[1;33m)\u001b[0m\u001b[1;33m:\u001b[0m\u001b[1;33m\u001b[0m\u001b[1;33m\u001b[0m\u001b[0m\n\u001b[0;32m    524\u001b[0m             \u001b[0mtrackable_referrers\u001b[0m\u001b[1;33m.\u001b[0m\u001b[0mappend\u001b[0m\u001b[1;33m(\u001b[0m\u001b[0msecondary_referrer\u001b[0m\u001b[1;33m)\u001b[0m\u001b[1;33m\u001b[0m\u001b[1;33m\u001b[0m\u001b[0m\n\u001b[1;32m--> 525\u001b[1;33m       raise AssertionError(\n\u001b[0m\u001b[0;32m    526\u001b[0m           \u001b[1;34m\"Tried to export a function which references 'untracked' resource \"\u001b[0m\u001b[1;33m\u001b[0m\u001b[1;33m\u001b[0m\u001b[0m\n\u001b[0;32m    527\u001b[0m           \u001b[1;34mf\"{interior}. TensorFlow objects (e.g. tf.Variable) captured by \"\u001b[0m\u001b[1;33m\u001b[0m\u001b[1;33m\u001b[0m\u001b[0m\n",
      "\u001b[1;31mAssertionError\u001b[0m: Tried to export a function which references 'untracked' resource Tensor(\"12849:0\", shape=(), dtype=resource). TensorFlow objects (e.g. tf.Variable) captured by functions must be 'tracked' by assigning them to an attribute of a tracked object or assigned to an attribute of the main object directly.\n\n Trackable Python objects referring to this tensor (from gc.get_referrers, limited to two hops):\n<tf.Variable 'Variable:0' shape=(5, 4, 60) dtype=float32>"
     ]
    }
   ],
   "source": [
    "repaired_model.save('try')"
   ]
  }
 ],
 "metadata": {
  "kernelspec": {
   "display_name": "Python 3 (ipykernel)",
   "language": "python",
   "name": "python3"
  },
  "language_info": {
   "codemirror_mode": {
    "name": "ipython",
    "version": 3
   },
   "file_extension": ".py",
   "mimetype": "text/x-python",
   "name": "python",
   "nbconvert_exporter": "python",
   "pygments_lexer": "ipython3",
   "version": "3.8.12"
  }
 },
 "nbformat": 4,
 "nbformat_minor": 5
}
