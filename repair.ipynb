{
 "cells": [
  {
   "cell_type": "code",
   "execution_count": 1,
   "metadata": {},
   "outputs": [],
   "source": [
    "import numpy as np\n",
    "import math\n",
    "import random\n",
    "import json\n",
    "import h5py\n",
    "\n",
    "import tensorflow as tf\n",
    "import keras\n",
    "import keras.backend as K\n",
    "\n",
    "import matplotlib.pyplot as plt"
   ]
  },
  {
   "cell_type": "markdown",
   "metadata": {},
   "source": [
    "### Tryout backdoored model"
   ]
  },
  {
   "cell_type": "code",
   "execution_count": 2,
   "metadata": {},
   "outputs": [],
   "source": [
    "clean_data_filename = \"original_data/lab3/data/cl/valid.h5\"\n",
    "poisoned_data_filename = \"original_data/lab3/data/bd/bd_valid.h5\"\n",
    "model_filename = \"original_data/lab3/models/bd_net.h5\""
   ]
  },
  {
   "cell_type": "code",
   "execution_count": 3,
   "metadata": {},
   "outputs": [],
   "source": [
    "def data_loader(filepath):\n",
    "    data = h5py.File(filepath, 'r')\n",
    "    x_data = np.array(data['data'])\n",
    "    y_data = np.array(data['label'])\n",
    "    x_data = x_data.transpose((0,2,3,1))\n",
    "\n",
    "    return x_data, y_data"
   ]
  },
  {
   "cell_type": "code",
   "execution_count": 4,
   "metadata": {},
   "outputs": [
    {
     "name": "stdout",
     "output_type": "stream",
     "text": [
      "Clean Classification accuracy: 98.64899974019225\n",
      "Attack Success Rate: 100.0\n"
     ]
    }
   ],
   "source": [
    "cl_x_val, cl_y_val = data_loader(clean_data_filename)\n",
    "bd_x_val, bd_y_val = data_loader(poisoned_data_filename)\n",
    "\n",
    "bd_model = keras.models.load_model(model_filename)\n",
    "\n",
    "cl_label_p = np.argmax(bd_model.predict(cl_x_val), axis=1)\n",
    "clean_accuracy = np.mean(np.equal(cl_label_p, cl_y_val))*100\n",
    "print('Clean Classification accuracy:', clean_accuracy)\n",
    "\n",
    "bd_label_p = np.argmax(bd_model.predict(bd_x_val), axis=1)\n",
    "asr = np.mean(np.equal(bd_label_p, bd_y_val))*100\n",
    "print('Attack Success Rate:', asr)"
   ]
  },
  {
   "cell_type": "markdown",
   "metadata": {},
   "source": [
    "### Pruning defense"
   ]
  },
  {
   "cell_type": "code",
   "execution_count": 5,
   "metadata": {},
   "outputs": [],
   "source": [
    "feature_net = keras.Model(inputs=bd_model.input, outputs=bd_model.layers[6].output)\n",
    "interpretation_net = keras.Model(inputs=bd_model.layers[7].input, outputs=bd_model.output)\n",
    "activations = feature_net.predict(cl_x_val)"
   ]
  },
  {
   "cell_type": "code",
   "execution_count": 6,
   "metadata": {},
   "outputs": [],
   "source": [
    "average_activation = np.mean(activations, axis=0)\n",
    "idx = np.unravel_index(np.argsort(average_activation, axis=None), average_activation.shape)"
   ]
  },
  {
   "cell_type": "code",
   "execution_count": 7,
   "metadata": {},
   "outputs": [],
   "source": [
    "def Pruned_Net(custom_mask=None):\n",
    "    mask = tf.Variable(custom_mask, trainable=False, dtype=tf.float32)\n",
    "    masked = keras.layers.Lambda(lambda x: x * mask)(feature_net.output)\n",
    "    return keras.Model(inputs=feature_net.output, outputs=interpretation_net(masked))"
   ]
  },
  {
   "cell_type": "code",
   "execution_count": 8,
   "metadata": {},
   "outputs": [
    {
     "name": "stdout",
     "output_type": "stream",
     "text": [
      "Step 920: current acc 97.05551225426518, 1.5934874859270707 reduced\n",
      "Step 940: current acc 95.88637741404695, 2.762622326145305 reduced\n",
      "Step 960: current acc 94.8038451545856, 3.8451545856066502 reduced\n",
      "Step 980: current acc 93.6087295401403, 5.04027020005195 reduced\n",
      "Step 1000: current acc 91.82471637654803, 6.824283363644227 reduced\n",
      "Step 1020: current acc 89.35654282497619, 9.292456915216064 reduced\n",
      "Step 1040: current acc 82.28111197713692, 16.367887763055336 reduced\n",
      "Step 1060: current acc 68.90101325019485, 29.747986489997402 reduced\n"
     ]
    }
   ],
   "source": [
    "prune_mask = np.ones((5, 4, 60))\n",
    "stored_masks = {2: None, 4: None, 10: None, 30: None}\n",
    "for i in range(5 * 4 * 60):\n",
    "    prune_mask[idx[0][i], idx[1][i], idx[2][i]] = 0\n",
    "    if i <= 900:\n",
    "        continue # to save time\n",
    "    pruned_net = Pruned_Net(prune_mask)\n",
    "\n",
    "    label_pruned = np.argmax(pruned_net.predict(activations), axis=1)\n",
    "    accuracy_pruned = np.mean(np.equal(label_pruned, cl_y_val))*100\n",
    "\n",
    "    if i % 20 == 0:\n",
    "        print(\"Step {}: current acc {}, {} reduced\".format(i, accuracy_pruned, clean_accuracy - accuracy_pruned))\n",
    "\n",
    "    if stored_masks[2] is None and accuracy_pruned <= clean_accuracy - 2:\n",
    "        stored_masks[2] = prune_mask.copy()\n",
    "    if stored_masks[4] is None and accuracy_pruned <= clean_accuracy - 4:\n",
    "        stored_masks[4] = prune_mask.copy()\n",
    "    if stored_masks[10] is None and accuracy_pruned <= clean_accuracy - 10:\n",
    "        stored_masks[10] = prune_mask.copy()\n",
    "    if stored_masks[30] is None and accuracy_pruned <= clean_accuracy - 30:\n",
    "        stored_masks[30] = prune_mask.copy()\n",
    "    \n",
    "    if stored_masks[2] is not None and stored_masks[4] is not None and stored_masks[10] is not None and stored_masks[30] is not None:\n",
    "        break"
   ]
  },
  {
   "cell_type": "code",
   "execution_count": 9,
   "metadata": {},
   "outputs": [],
   "source": [
    "np.save(\"models/mask_2.npy\", stored_masks[2])\n",
    "np.save(\"models/mask_4.npy\", stored_masks[4])\n",
    "np.save(\"models/mask_10.npy\", stored_masks[10])\n",
    "np.save(\"models/mask_30.npy\", stored_masks[30])"
   ]
  },
  {
   "cell_type": "code",
   "execution_count": 10,
   "metadata": {},
   "outputs": [],
   "source": [
    "cl_x_test, cl_y_test = data_loader(\"original_data/lab3/data/cl/test.h5\")\n",
    "bd_x_test, bd_y_test = data_loader(\"original_data/lab3/data/bd/bd_test.h5\")"
   ]
  },
  {
   "cell_type": "code",
   "execution_count": 11,
   "metadata": {},
   "outputs": [
    {
     "name": "stdout",
     "output_type": "stream",
     "text": [
      "Clean Classification accuracy: 96.58612626656274\n",
      "Attack Success Rate: 99.99220576773187\n"
     ]
    }
   ],
   "source": [
    "pruned_net = Pruned_Net(stored_masks[2])\n",
    "\n",
    "activations = feature_net.predict(cl_x_test)\n",
    "y_1 = np.argmax(interpretation_net.predict(activations), axis=1)\n",
    "y_2 = np.argmax(pruned_net.predict(activations), axis=1)\n",
    "cl_label_p = np.where(y_1 == y_2, y_1, 1283)\n",
    "clean_accuracy = np.mean(np.equal(cl_label_p, cl_y_test))*100\n",
    "print('Clean Classification accuracy:', clean_accuracy)\n",
    "\n",
    "activations = feature_net.predict(bd_x_test)\n",
    "y_1 = np.argmax(interpretation_net.predict(activations), axis=1)\n",
    "y_2 = np.argmax(pruned_net.predict(activations), axis=1)\n",
    "bd_label_p = np.where(y_1 == y_2, y_1, 1283)\n",
    "asr = np.mean(np.equal(bd_label_p, bd_y_test))*100\n",
    "print('Attack Success Rate:', asr)"
   ]
  },
  {
   "cell_type": "code",
   "execution_count": 12,
   "metadata": {},
   "outputs": [
    {
     "name": "stdout",
     "output_type": "stream",
     "text": [
      "Clean Classification accuracy: 94.77786438035854\n",
      "Attack Success Rate: 98.46453624318005\n"
     ]
    }
   ],
   "source": [
    "pruned_net = Pruned_Net(stored_masks[4])\n",
    "\n",
    "activations = feature_net.predict(cl_x_test)\n",
    "y_1 = np.argmax(interpretation_net.predict(activations), axis=1)\n",
    "y_2 = np.argmax(pruned_net.predict(activations), axis=1)\n",
    "cl_label_p = np.where(y_1 == y_2, y_1, 1283)\n",
    "clean_accuracy = np.mean(np.equal(cl_label_p, cl_y_test))*100\n",
    "print('Clean Classification accuracy:', clean_accuracy)\n",
    "\n",
    "activations = feature_net.predict(bd_x_test)\n",
    "y_1 = np.argmax(interpretation_net.predict(activations), axis=1)\n",
    "y_2 = np.argmax(pruned_net.predict(activations), axis=1)\n",
    "bd_label_p = np.where(y_1 == y_2, y_1, 1283)\n",
    "asr = np.mean(np.equal(bd_label_p, bd_y_test))*100\n",
    "print('Attack Success Rate:', asr)"
   ]
  },
  {
   "cell_type": "code",
   "execution_count": 13,
   "metadata": {},
   "outputs": [
    {
     "name": "stdout",
     "output_type": "stream",
     "text": [
      "Clean Classification accuracy: 88.09041309431022\n",
      "Attack Success Rate: 63.16445830085736\n"
     ]
    }
   ],
   "source": [
    "pruned_net = Pruned_Net(stored_masks[10])\n",
    "\n",
    "activations = feature_net.predict(cl_x_test)\n",
    "y_1 = np.argmax(interpretation_net.predict(activations), axis=1)\n",
    "y_2 = np.argmax(pruned_net.predict(activations), axis=1)\n",
    "cl_label_p = np.where(y_1 == y_2, y_1, 1283)\n",
    "clean_accuracy = np.mean(np.equal(cl_label_p, cl_y_test))*100\n",
    "print('Clean Classification accuracy:', clean_accuracy)\n",
    "\n",
    "activations = feature_net.predict(bd_x_test)\n",
    "y_1 = np.argmax(interpretation_net.predict(activations), axis=1)\n",
    "y_2 = np.argmax(pruned_net.predict(activations), axis=1)\n",
    "bd_label_p = np.where(y_1 == y_2, y_1, 1283)\n",
    "asr = np.mean(np.equal(bd_label_p, bd_y_test))*100\n",
    "print('Attack Success Rate:', asr)"
   ]
  },
  {
   "cell_type": "code",
   "execution_count": 14,
   "metadata": {},
   "outputs": [
    {
     "name": "stdout",
     "output_type": "stream",
     "text": [
      "Clean Classification accuracy: 67.8332034294622\n",
      "Attack Success Rate: 81.60561184723305\n"
     ]
    }
   ],
   "source": [
    "pruned_net = Pruned_Net(stored_masks[30])\n",
    "\n",
    "activations = feature_net.predict(cl_x_test)\n",
    "y_1 = np.argmax(interpretation_net.predict(activations), axis=1)\n",
    "y_2 = np.argmax(pruned_net.predict(activations), axis=1)\n",
    "cl_label_p = np.where(y_1 == y_2, y_1, 1283)\n",
    "clean_accuracy = np.mean(np.equal(cl_label_p, cl_y_test))*100\n",
    "print('Clean Classification accuracy:', clean_accuracy)\n",
    "\n",
    "activations = feature_net.predict(bd_x_test)\n",
    "y_1 = np.argmax(interpretation_net.predict(activations), axis=1)\n",
    "y_2 = np.argmax(pruned_net.predict(activations), axis=1)\n",
    "bd_label_p = np.where(y_1 == y_2, y_1, 1283)\n",
    "asr = np.mean(np.equal(bd_label_p, bd_y_test))*100\n",
    "print('Attack Success Rate:', asr)"
   ]
  },
  {
   "cell_type": "markdown",
   "metadata": {},
   "source": [
    "### Plot"
   ]
  },
  {
   "cell_type": "code",
   "execution_count": 15,
   "metadata": {},
   "outputs": [
    {
     "name": "stdout",
     "output_type": "stream",
     "text": [
      "Clean Classification accuracy: 98.64899974019225\n"
     ]
    }
   ],
   "source": [
    "cl_label_p = np.argmax(bd_model.predict(cl_x_val), axis=1)\n",
    "clean_accuracy = np.mean(np.equal(cl_label_p, cl_y_val))*100\n",
    "print('Clean Classification accuracy:', clean_accuracy)\n",
    "\n",
    "val_activations = feature_net.predict(cl_x_val)\n",
    "average_activation = np.mean(val_activations, axis=0)\n",
    "idx = np.unravel_index(np.argsort(average_activation, axis=None), average_activation.shape)\n",
    "\n",
    "prune_mask = np.ones((5, 4, 60))\n",
    "prune_percentage = []\n",
    "acc = []\n",
    "asr = []\n",
    "\n",
    "for i in range(5 * 4 * 60):\n",
    "    prune_mask[idx[0][i], idx[1][i], idx[2][i]] = 0\n",
    "    if i % 24 == 0:\n",
    "        pruned_net = Pruned_Net(prune_mask)\n",
    "\n",
    "        prune_percentage.append((i + 1) / (5 * 4 * 60))\n",
    "\n",
    "        activations = feature_net.predict(cl_x_test)\n",
    "        y_1 = np.argmax(interpretation_net.predict(activations), axis=1)\n",
    "        y_2 = np.argmax(pruned_net.predict(activations), axis=1)\n",
    "        cl_label_p = np.where(y_1 == y_2, y_1, 1283)\n",
    "        acc.append(np.mean(np.equal(cl_label_p, cl_y_test))*100)\n",
    "\n",
    "        activations = feature_net.predict(bd_x_test)\n",
    "        y_1 = np.argmax(interpretation_net.predict(activations), axis=1)\n",
    "        y_2 = np.argmax(pruned_net.predict(activations), axis=1)\n",
    "        bd_label_p = np.where(y_1 == y_2, y_1, 1283)\n",
    "        asr.append(np.mean(np.equal(bd_label_p, bd_y_test))*100)"
   ]
  },
  {
   "cell_type": "code",
   "execution_count": 17,
   "metadata": {},
   "outputs": [
    {
     "data": {
      "image/png": "[encoded data removed]",
      "text/plain": [
       "<Figure size 432x288 with 1 Axes>"
      ]
     },
     "metadata": {
      "needs_background": "light"
     },
     "output_type": "display_data"
    }
   ],
   "source": [
    "plt.figure()\n",
    "plt.plot(prune_percentage, acc, label=\"Acc on clean test data\")\n",
    "plt.plot(prune_percentage, asr, label=\"Attack success rate\")\n",
    "plt.xlabel(\"Fraction of channels pruned (0-1)\")\n",
    "plt.ylabel(\"Rate (0-100)\")\n",
    "plt.legend()\n",
    "plt.savefig(\"plot.png\")\n",
    "plt.show()"
   ]
  }
 ],
 "metadata": {
  "interpreter": {
   "hash": "7000f3aa3144863d7a1818a5b830b8d92018e6d98bb9ce449ada39ebdc328739"
  },
  "kernelspec": {
   "display_name": "Python 3.8.12 64-bit ('torch_keras': conda)",
   "language": "python",
   "name": "python3"
  },
  "language_info": {
   "codemirror_mode": {
    "name": "ipython",
    "version": 3
   },
   "file_extension": ".py",
   "mimetype": "text/x-python",
   "name": "python",
   "nbconvert_exporter": "python",
   "pygments_lexer": "ipython3",
   "version": "3.8.12"
  },
  "orig_nbformat": 4
 },
 "nbformat": 4,
 "nbformat_minor": 2
}
